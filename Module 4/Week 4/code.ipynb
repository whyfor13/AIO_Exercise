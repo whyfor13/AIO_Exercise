{
 "cells": [
  {
   "cell_type": "code",
   "execution_count": 98,
   "metadata": {},
   "outputs": [],
   "source": [
    "import numpy as np\n",
    "import random\n",
    "import pandas as pd\n",
    "\n",
    "df = pd.read_csv(\"SalesPrediction.csv\")\n"
   ]
  },
  {
   "cell_type": "markdown",
   "metadata": {},
   "source": [
    "***1. Linear Regression***"
   ]
  },
  {
   "cell_type": "code",
   "execution_count": 16,
   "metadata": {},
   "outputs": [],
   "source": [
    "X_data = np.array(df.iloc[:,:-1])\n",
    "y_target = np.array(df.iloc[:,-1])"
   ]
  },
  {
   "cell_type": "code",
   "execution_count": 17,
   "metadata": {},
   "outputs": [],
   "source": [
    "class CustomLinearRegression:\n",
    "    def __init__(self, X_data, y_target, learning_rate = 0.01, num_epochs = 10000):\n",
    "        self.num_samples = X_data.shape[0]\n",
    "        self.X_data = np.c_[np.ones((self.num_samples,1)),X_data]\n",
    "        self.y_target = y_target\n",
    "        self.learning_rate = learning_rate\n",
    "        self.num_epochs = num_epochs\n",
    "\n",
    "        # Initial weights\n",
    "        self.theta = np.random.rand(self.X_data.shape[1],1)\n",
    "        self.losses = []\n",
    "\n",
    "    def compute_loss(self, y_pred, y_target):\n",
    "        loss = np.multiply((y_pred - y_target),(y_pred - y_target)).mean()\n",
    "        return loss\n",
    "    \n",
    "    def predict(self, X_data):\n",
    "        y_pred = X_data.dot(self.theta)\n",
    "        return y_pred\n",
    "    \n",
    "    def fit(self):\n",
    "        for epoch in range(self.num_epochs):\n",
    "            # predict\n",
    "            y_pred = self.predict(self.X_data)\n",
    "\n",
    "            # compute loss\n",
    "            loss = self.compute_loss(y_pred, self.y_target)\n",
    "            self.losses.append(loss)\n",
    "\n",
    "            # compute gradients\n",
    "            loss_grd = 2*(y_pred-self.y_target)/self.num_samples\n",
    "            gradients = self.X_data.T.dot(loss_grd)\n",
    "\n",
    "            # update gradients\n",
    "            self.theta = self.theta - self.learning_rate*gradients\n",
    "\n",
    "            if (epoch%50) == 0:\n",
    "                print(f'Epoch: {epoch} - Loss: {loss}')\n",
    "            \n",
    "        return {\n",
    "            'loss': sum(self.losses)/len(self.losses),\n",
    "            'weight': self.theta\n",
    "        }"
   ]
  },
  {
   "cell_type": "code",
   "execution_count": null,
   "metadata": {},
   "outputs": [],
   "source": [
    "# Question 1: A\n",
    "# Question 2: C\n",
    "# Question 3: D"
   ]
  },
  {
   "cell_type": "code",
   "execution_count": 22,
   "metadata": {},
   "outputs": [
    {
     "name": "stdout",
     "output_type": "stream",
     "text": [
      "Case 1:  1.0\n",
      "Case 2:  -2.235294117647059\n"
     ]
    }
   ],
   "source": [
    "def r2score(y_pred, y):\n",
    "    rss = np.sum( (y_pred-y)**2 )\n",
    "    tss = np.sum( (y-y.mean())**2 )\n",
    "    r2 = 1 - (rss/tss)\n",
    "    return r2\n",
    "\n",
    "# Question 4: B\n",
    "# Case 1:\n",
    "y_pred = np.array([1,2,3,4,5])\n",
    "y = np.array([1,2,3,4,5])\n",
    "print('Case 1: ', r2score(y_pred,y))\n",
    "\n",
    "# Case 2:\n",
    "y_pred = np.array([1,2,3,4,5])\n",
    "y = np.array([3,5,5,2,4])\n",
    "print('Case 2: ', r2score(y_pred,y))\n"
   ]
  },
  {
   "cell_type": "code",
   "execution_count": null,
   "metadata": {},
   "outputs": [],
   "source": [
    "# Question 5: B\n",
    "# Question 6: B"
   ]
  },
  {
   "cell_type": "markdown",
   "metadata": {},
   "source": [
    "***2. Polynomial Regression:***"
   ]
  },
  {
   "cell_type": "code",
   "execution_count": 39,
   "metadata": {},
   "outputs": [
    {
     "data": {
      "text/plain": [
       "array([[ 1,  1,  1],\n",
       "       [ 2,  4,  8],\n",
       "       [ 3,  9, 27]])"
      ]
     },
     "execution_count": 39,
     "metadata": {},
     "output_type": "execute_result"
    }
   ],
   "source": [
    "def create_polynomial_features (X , degree=2):\n",
    "    \"\"\" Creates the polynomial features\n",
    "    Args :\n",
    "    X : A array tensor for the data.\n",
    "    degree : A integer for the degree of the generated polynomial function.\n",
    "    \"\"\"\n",
    "    X_new = X\n",
    "    for i in range(2, degree+1):\n",
    "        X_new = np.c_[X_new, X**i]\n",
    "    return X_new\n",
    "\n",
    "X = np.array([[1],[2],[3]])\n",
    "create_polynomial_features(X, 3)"
   ]
  },
  {
   "cell_type": "code",
   "execution_count": null,
   "metadata": {},
   "outputs": [],
   "source": [
    "# Question 7: A\n",
    "# Question 8: A"
   ]
  },
  {
   "cell_type": "code",
   "execution_count": 96,
   "metadata": {},
   "outputs": [
    {
     "data": {
      "text/plain": [
       "array([[ 1,  1,  1,  2,  4,  8],\n",
       "       [ 2,  4,  8,  3,  9, 27],\n",
       "       [ 3,  9, 27,  4, 16, 64]])"
      ]
     },
     "execution_count": 96,
     "metadata": {},
     "output_type": "execute_result"
    }
   ],
   "source": [
    "def create_polynomial_features (X , degree=2):\n",
    "    \"\"\" Creates the polynomial features\n",
    "    Args :\n",
    "    X : A array tensor for the data.\n",
    "    degree : A integer for the degree of the generated polynomial function.\n",
    "    \"\"\"\n",
    "    X_mem = []\n",
    "    for X_sub in X.T:\n",
    "        X_new = X_sub\n",
    "        for d in range(2, degree+1):\n",
    "            X_new = np.c_[X_new, np.power(X_sub,d)]\n",
    "        X_mem.extend(X_new.T)\n",
    "    return np.c_[X_mem].T\n",
    "\n",
    "X = np.array([[1,2],[2,3],[3,4]])\n",
    "create_polynomial_features(X, 3)"
   ]
  },
  {
   "cell_type": "code",
   "execution_count": 101,
   "metadata": {},
   "outputs": [],
   "source": [
    "# Question 9: A\n",
    "df = pd.get_dummies(df)"
   ]
  },
  {
   "cell_type": "code",
   "execution_count": 102,
   "metadata": {},
   "outputs": [
    {
     "name": "stdout",
     "output_type": "stream",
     "text": [
      "<class 'pandas.core.frame.DataFrame'>\n",
      "RangeIndex: 4572 entries, 0 to 4571\n",
      "Data columns (total 8 columns):\n",
      " #   Column            Non-Null Count  Dtype  \n",
      "---  ------            --------------  -----  \n",
      " 0   TV                4562 non-null   float64\n",
      " 1   Radio             4568 non-null   float64\n",
      " 2   Social Media      4566 non-null   float64\n",
      " 3   Sales             4566 non-null   float64\n",
      " 4   Influencer_Macro  4572 non-null   bool   \n",
      " 5   Influencer_Mega   4572 non-null   bool   \n",
      " 6   Influencer_Micro  4572 non-null   bool   \n",
      " 7   Influencer_Nano   4572 non-null   bool   \n",
      "dtypes: bool(4), float64(4)\n",
      "memory usage: 160.9 KB\n"
     ]
    }
   ],
   "source": [
    "df.info()"
   ]
  },
  {
   "cell_type": "code",
   "execution_count": 103,
   "metadata": {},
   "outputs": [],
   "source": [
    "# Handle null values\n",
    "df = df.fillna(df.mean())"
   ]
  },
  {
   "cell_type": "code",
   "execution_count": 104,
   "metadata": {},
   "outputs": [
    {
     "name": "stdout",
     "output_type": "stream",
     "text": [
      "<class 'pandas.core.frame.DataFrame'>\n",
      "RangeIndex: 4572 entries, 0 to 4571\n",
      "Data columns (total 8 columns):\n",
      " #   Column            Non-Null Count  Dtype  \n",
      "---  ------            --------------  -----  \n",
      " 0   TV                4572 non-null   float64\n",
      " 1   Radio             4572 non-null   float64\n",
      " 2   Social Media      4572 non-null   float64\n",
      " 3   Sales             4572 non-null   float64\n",
      " 4   Influencer_Macro  4572 non-null   bool   \n",
      " 5   Influencer_Mega   4572 non-null   bool   \n",
      " 6   Influencer_Micro  4572 non-null   bool   \n",
      " 7   Influencer_Nano   4572 non-null   bool   \n",
      "dtypes: bool(4), float64(4)\n",
      "memory usage: 160.9 KB\n"
     ]
    }
   ],
   "source": [
    "df.info()"
   ]
  },
  {
   "cell_type": "code",
   "execution_count": 122,
   "metadata": {},
   "outputs": [],
   "source": [
    "# Get features\n",
    "X = df.iloc[:,[0,1,2,4,5,6,7]]\n",
    "y = df[['Sales']]\n",
    "\n",
    "# Train Test Split\n",
    "\n",
    "from sklearn.model_selection import train_test_split\n",
    "X_train, X_test, y_train, y_test = train_test_split(X,y,test_size=0.33, random_state=0)"
   ]
  },
  {
   "cell_type": "code",
   "execution_count": 135,
   "metadata": {},
   "outputs": [],
   "source": [
    "from sklearn.preprocessing import StandardScaler\n",
    "scalar = StandardScaler()\n",
    "X_train_processed = scalar.fit_transform(X_train)\n",
    "X_test_processed = scalar.transform(X_test)"
   ]
  },
  {
   "cell_type": "code",
   "execution_count": 128,
   "metadata": {},
   "outputs": [
    {
     "data": {
      "text/plain": [
       "54.173577723283785"
      ]
     },
     "execution_count": 128,
     "metadata": {},
     "output_type": "execute_result"
    }
   ],
   "source": [
    "scalar.mean_[0]\n",
    "# Question 10: A"
   ]
  },
  {
   "cell_type": "code",
   "execution_count": 144,
   "metadata": {},
   "outputs": [],
   "source": [
    "from sklearn.preprocessing import PolynomialFeatures\n",
    "\n",
    "poly_features = PolynomialFeatures(degree=2)\n",
    "\n",
    "X_train_poly = poly_features.fit_transform(X_train_processed)\n",
    "X_test_poly = poly_features.transform(X_test_processed)"
   ]
  },
  {
   "cell_type": "code",
   "execution_count": 148,
   "metadata": {},
   "outputs": [
    {
     "data": {
      "text/plain": [
       "0.9951771444754912"
      ]
     },
     "execution_count": 148,
     "metadata": {},
     "output_type": "execute_result"
    }
   ],
   "source": [
    "from sklearn.linear_model import LinearRegression\n",
    "from sklearn.metrics import r2_score\n",
    "\n",
    "poly_model = LinearRegression()\n",
    "poly_model.fit(X_train_poly, y_train)\n",
    "\n",
    "preds = poly_model.predict(X_test_poly)\n",
    "r2_score(y_test, preds)\n"
   ]
  }
 ],
 "metadata": {
  "kernelspec": {
   "display_name": "base",
   "language": "python",
   "name": "python3"
  },
  "language_info": {
   "codemirror_mode": {
    "name": "ipython",
    "version": 3
   },
   "file_extension": ".py",
   "mimetype": "text/x-python",
   "name": "python",
   "nbconvert_exporter": "python",
   "pygments_lexer": "ipython3",
   "version": "3.12.4"
  }
 },
 "nbformat": 4,
 "nbformat_minor": 2
}
