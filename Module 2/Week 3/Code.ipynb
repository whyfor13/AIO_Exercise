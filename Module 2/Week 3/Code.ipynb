{
 "cells": [
  {
   "cell_type": "markdown",
   "metadata": {},
   "source": []
  },
  {
   "cell_type": "code",
   "execution_count": 17,
   "metadata": {},
   "outputs": [
    {
     "name": "stdout",
     "output_type": "stream",
     "text": [
      "[['Sunny' 'Hot' 'High' 'Weak' 'no']\n",
      " ['Sunny' 'Hot' 'High' 'Strong' 'no']\n",
      " ['Overcast' 'Hot' 'High' 'Weak' 'yes']\n",
      " ['Rain' 'Mild' 'High' 'Weak' 'yes']\n",
      " ['Rain' 'Cool' 'Normal' 'Weak' 'yes']\n",
      " ['Rain' 'Cool' 'Normal' 'Strong' 'no']\n",
      " ['Overcast' 'Cool' 'Normal' 'Strong' 'yes']\n",
      " ['Overcast' 'Mild' 'High' 'Weak' 'no']\n",
      " ['Sunny' 'Cool' 'Normal' 'Weak' 'yes']\n",
      " ['Rain' 'Mild' 'Normal' 'Weak' 'yes']]\n"
     ]
    }
   ],
   "source": [
    "import numpy as np\n",
    "\n",
    "def create_train_data():\n",
    "    data = [['Sunny', 'Hot', 'High', 'Weak', 'no'],\n",
    "            ['Sunny', 'Hot', 'High', 'Strong', 'no'],\n",
    "            ['Overcast', 'Hot', 'High', 'Weak', 'yes'],\n",
    "            ['Rain', 'Mild', 'High', 'Weak', 'yes'],\n",
    "            ['Rain', 'Cool', 'Normal', 'Weak', 'yes'],\n",
    "            ['Rain', 'Cool', 'Normal', 'Strong', 'no'],\n",
    "            ['Overcast', 'Cool', 'Normal', 'Strong', 'yes'],\n",
    "            ['Overcast', 'Mild', 'High', 'Weak', 'no'],\n",
    "            ['Sunny', 'Cool', 'Normal', 'Weak', 'yes'],\n",
    "            ['Rain', 'Mild', 'Normal', 'Weak', 'yes'],]\n",
    "    return np.array(data)\n",
    "\n",
    "train_data = create_train_data()\n",
    "print(train_data)"
   ]
  },
  {
   "cell_type": "code",
   "execution_count": 18,
   "metadata": {},
   "outputs": [
    {
     "name": "stdout",
     "output_type": "stream",
     "text": [
      "P(Play tennis = No) 0.4\n",
      "P(Play tennis = Yes) 0.6\n"
     ]
    }
   ],
   "source": [
    "def compute_prior_probability(train_data):\n",
    "    y_unique = ['no','yes']\n",
    "    label = train_data.T[-1]\n",
    "    prior_probability = np.zeros(len(y_unique))\n",
    "    prior_probability[0] = np.average(np.where(label == y_unique[0],1,0))\n",
    "    prior_probability[1] = np.average(np.where(label == y_unique[1],1,0))\n",
    "    return prior_probability\n",
    "\n",
    "prior_probability = compute_prior_probability(train_data)\n",
    "print('P(Play tennis = No)', prior_probability[0])\n",
    "print('P(Play tennis = Yes)', prior_probability[1])"
   ]
  },
  {
   "cell_type": "code",
   "execution_count": 41,
   "metadata": {},
   "outputs": [],
   "source": [
    "def compute_conditional_probability(train_data):\n",
    "    y_unique = ['no','yes']\n",
    "    conditional_probability = []\n",
    "    list_x_name = []\n",
    "    for i in range (0,train_data.shape[1]-1):\n",
    "        x_unique = np.unique(train_data[:,i])\n",
    "        list_x_name.append(x_unique)\n",
    "        x_conditional_probability = np.zeros((len(y_unique),len(x_unique)))\n",
    "        for j in range(len(y_unique)):\n",
    "            for k in range(len(x_unique)):\n",
    "                x_conditional_probability[j,k] = np.sum(np.where(\n",
    "                    (train_data[:,-1] == y_unique[j])&(train_data[:,i] == x_unique[k]),1,0))/np.sum(np.where(\n",
    "                    (train_data[:,-1] == y_unique[j]),1,0))\n",
    "        conditional_probability.append(x_conditional_probability)\n",
    "    return conditional_probability, list_x_name"
   ]
  },
  {
   "cell_type": "code",
   "execution_count": 44,
   "metadata": {},
   "outputs": [
    {
     "name": "stdout",
     "output_type": "stream",
     "text": [
      "x1 =  ['Overcast' 'Rain' 'Sunny']\n",
      "x2 =  ['Cool' 'Hot' 'Mild']\n",
      "x3 =  ['High' 'Normal']\n",
      "x4 =  ['Strong' 'Weak']\n"
     ]
    }
   ],
   "source": [
    "_, list_x_name = compute_conditional_probability(train_data)\n",
    "print(\"x1 = \", list_x_name[0])\n",
    "print(\"x2 = \", list_x_name[1])\n",
    "print(\"x3 = \", list_x_name[2])\n",
    "print(\"x4 = \", list_x_name[3])"
   ]
  }
 ],
 "metadata": {
  "kernelspec": {
   "display_name": "base",
   "language": "python",
   "name": "python3"
  },
  "language_info": {
   "codemirror_mode": {
    "name": "ipython",
    "version": 3
   },
   "file_extension": ".py",
   "mimetype": "text/x-python",
   "name": "python",
   "nbconvert_exporter": "python",
   "pygments_lexer": "ipython3",
   "version": "3.12.4"
  }
 },
 "nbformat": 4,
 "nbformat_minor": 2
}
